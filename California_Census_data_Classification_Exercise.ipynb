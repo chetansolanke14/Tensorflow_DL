{
  "nbformat": 4,
  "nbformat_minor": 0,
  "metadata": {
    "colab": {
      "name": "California_Census_data_Classification-Exercise.ipynb",
      "version": "0.3.2",
      "provenance": [],
      "include_colab_link": true
    },
    "language_info": {
      "codemirror_mode": {
        "name": "ipython",
        "version": 3
      },
      "file_extension": ".py",
      "mimetype": "text/x-python",
      "name": "python",
      "nbconvert_exporter": "python",
      "pygments_lexer": "ipython3",
      "version": "3.5.4"
    },
    "kernelspec": {
      "display_name": "Python 3",
      "language": "python",
      "name": "python3"
    }
  },
  "cells": [
    {
      "cell_type": "markdown",
      "metadata": {
        "id": "view-in-github",
        "colab_type": "text"
      },
      "source": [
        "<a href=\"https://colab.research.google.com/github/chetansolanke14/Tensorflow_DL/blob/master/California_Census_data_Classification_Exercise.ipynb\" target=\"_parent\"><img src=\"https://colab.research.google.com/assets/colab-badge.svg\" alt=\"Open In Colab\"/></a>"
      ]
    },
    {
      "cell_type": "markdown",
      "metadata": {
        "collapsed": true,
        "id": "z9sGAI3Rz6bI",
        "colab_type": "text"
      },
      "source": [
        "# Classification Exercise"
      ]
    },
    {
      "cell_type": "markdown",
      "metadata": {
        "id": "KMOdo4hoz6bJ",
        "colab_type": "text"
      },
      "source": [
        "We'll be working with some California Census Data, we'll be trying to use various features of an individual to predict what class of income they belogn in (>50k or <=50k). \n",
        "\n",
        "Here is some information about the data:"
      ]
    },
    {
      "cell_type": "markdown",
      "metadata": {
        "id": "zH8Nrlzwz6bK",
        "colab_type": "text"
      },
      "source": [
        "<table>\n",
        "<thead>\n",
        "<tr>\n",
        "<th>Column Name</th>\n",
        "<th>Type</th>\n",
        "<th>Description</th>\n",
        "</tr>\n",
        "</thead>\n",
        "<tbody>\n",
        "<tr>\n",
        "<td>age</td>\n",
        "<td>Continuous</td>\n",
        "<td>The age of the individual</td>\n",
        "</tr>\n",
        "<tr>\n",
        "<td>workclass</td>\n",
        "<td>Categorical</td>\n",
        "<td>The type of employer the  individual has (government,  military, private, etc.).</td>\n",
        "</tr>\n",
        "<tr>\n",
        "<td>fnlwgt</td>\n",
        "<td>Continuous</td>\n",
        "<td>The number of people the census  takers believe that observation  represents (sample weight). This  variable will not be used.</td>\n",
        "</tr>\n",
        "<tr>\n",
        "<td>education</td>\n",
        "<td>Categorical</td>\n",
        "<td>The highest level of education  achieved for that individual.</td>\n",
        "</tr>\n",
        "<tr>\n",
        "<td>education_num</td>\n",
        "<td>Continuous</td>\n",
        "<td>The highest level of education in  numerical form.</td>\n",
        "</tr>\n",
        "<tr>\n",
        "<td>marital_status</td>\n",
        "<td>Categorical</td>\n",
        "<td>Marital status of the individual.</td>\n",
        "</tr>\n",
        "<tr>\n",
        "<td>occupation</td>\n",
        "<td>Categorical</td>\n",
        "<td>The occupation of the individual.</td>\n",
        "</tr>\n",
        "<tr>\n",
        "<td>relationship</td>\n",
        "<td>Categorical</td>\n",
        "<td>Wife, Own-child, Husband,  Not-in-family, Other-relative,  Unmarried.</td>\n",
        "</tr>\n",
        "<tr>\n",
        "<td>race</td>\n",
        "<td>Categorical</td>\n",
        "<td>White, Asian-Pac-Islander,  Amer-Indian-Eskimo, Other, Black.</td>\n",
        "</tr>\n",
        "<tr>\n",
        "<td>gender</td>\n",
        "<td>Categorical</td>\n",
        "<td>Female, Male.</td>\n",
        "</tr>\n",
        "<tr>\n",
        "<td>capital_gain</td>\n",
        "<td>Continuous</td>\n",
        "<td>Capital gains recorded.</td>\n",
        "</tr>\n",
        "<tr>\n",
        "<td>capital_loss</td>\n",
        "<td>Continuous</td>\n",
        "<td>Capital Losses recorded.</td>\n",
        "</tr>\n",
        "<tr>\n",
        "<td>hours_per_week</td>\n",
        "<td>Continuous</td>\n",
        "<td>Hours worked per week.</td>\n",
        "</tr>\n",
        "<tr>\n",
        "<td>native_country</td>\n",
        "<td>Categorical</td>\n",
        "<td>Country of origin of the  individual.</td>\n",
        "</tr>\n",
        "<tr>\n",
        "<td>income</td>\n",
        "<td>Categorical</td>\n",
        "<td>\"&gt;50K\" or \"&lt;=50K\", meaning  whether the person makes more  than \\$50,000 annually.</td>\n",
        "</tr>\n",
        "</tbody>\n",
        "</table>"
      ]
    },
    {
      "cell_type": "markdown",
      "metadata": {
        "id": "BUAMOnqiz6bL",
        "colab_type": "text"
      },
      "source": [
        "## Follow the Directions in Bold. If you get stuck, check out the solutions lecture."
      ]
    },
    {
      "cell_type": "markdown",
      "metadata": {
        "id": "EC8aaq5nz6bL",
        "colab_type": "text"
      },
      "source": [
        "### THE DATA"
      ]
    },
    {
      "cell_type": "markdown",
      "metadata": {
        "id": "4XAXb3vkz6bM",
        "colab_type": "text"
      },
      "source": [
        "** Read in the census_data.csv data with pandas**"
      ]
    },
    {
      "cell_type": "code",
      "metadata": {
        "id": "2_o0H028z6bN",
        "colab_type": "code",
        "colab": {}
      },
      "source": [
        "import pandas as pd"
      ],
      "execution_count": 0,
      "outputs": []
    },
    {
      "cell_type": "code",
      "metadata": {
        "id": "kaNtEDHMz6bQ",
        "colab_type": "code",
        "colab": {}
      },
      "source": [
        "census =pd.read_csv('census_data.csv')"
      ],
      "execution_count": 0,
      "outputs": []
    },
    {
      "cell_type": "code",
      "metadata": {
        "id": "CpqXj-M70uKx",
        "colab_type": "code",
        "colab": {
          "base_uri": "https://localhost:8080/",
          "height": 287
        },
        "outputId": "f8153f43-bfbf-4299-cfd0-f5ec5e5ac6f2"
      },
      "source": [
        "census.head()"
      ],
      "execution_count": 81,
      "outputs": [
        {
          "output_type": "execute_result",
          "data": {
            "text/html": [
              "<div>\n",
              "<style scoped>\n",
              "    .dataframe tbody tr th:only-of-type {\n",
              "        vertical-align: middle;\n",
              "    }\n",
              "\n",
              "    .dataframe tbody tr th {\n",
              "        vertical-align: top;\n",
              "    }\n",
              "\n",
              "    .dataframe thead th {\n",
              "        text-align: right;\n",
              "    }\n",
              "</style>\n",
              "<table border=\"1\" class=\"dataframe\">\n",
              "  <thead>\n",
              "    <tr style=\"text-align: right;\">\n",
              "      <th></th>\n",
              "      <th>age</th>\n",
              "      <th>workclass</th>\n",
              "      <th>education</th>\n",
              "      <th>education_num</th>\n",
              "      <th>marital_status</th>\n",
              "      <th>occupation</th>\n",
              "      <th>relationship</th>\n",
              "      <th>race</th>\n",
              "      <th>gender</th>\n",
              "      <th>capital_gain</th>\n",
              "      <th>capital_loss</th>\n",
              "      <th>hours_per_week</th>\n",
              "      <th>native_country</th>\n",
              "      <th>income_bracket</th>\n",
              "    </tr>\n",
              "  </thead>\n",
              "  <tbody>\n",
              "    <tr>\n",
              "      <th>0</th>\n",
              "      <td>39</td>\n",
              "      <td>State-gov</td>\n",
              "      <td>Bachelors</td>\n",
              "      <td>13</td>\n",
              "      <td>Never-married</td>\n",
              "      <td>Adm-clerical</td>\n",
              "      <td>Not-in-family</td>\n",
              "      <td>White</td>\n",
              "      <td>Male</td>\n",
              "      <td>2174</td>\n",
              "      <td>0</td>\n",
              "      <td>40</td>\n",
              "      <td>United-States</td>\n",
              "      <td>0</td>\n",
              "    </tr>\n",
              "    <tr>\n",
              "      <th>1</th>\n",
              "      <td>50</td>\n",
              "      <td>Self-emp-not-inc</td>\n",
              "      <td>Bachelors</td>\n",
              "      <td>13</td>\n",
              "      <td>Married-civ-spouse</td>\n",
              "      <td>Exec-managerial</td>\n",
              "      <td>Husband</td>\n",
              "      <td>White</td>\n",
              "      <td>Male</td>\n",
              "      <td>0</td>\n",
              "      <td>0</td>\n",
              "      <td>13</td>\n",
              "      <td>United-States</td>\n",
              "      <td>0</td>\n",
              "    </tr>\n",
              "    <tr>\n",
              "      <th>2</th>\n",
              "      <td>38</td>\n",
              "      <td>Private</td>\n",
              "      <td>HS-grad</td>\n",
              "      <td>9</td>\n",
              "      <td>Divorced</td>\n",
              "      <td>Handlers-cleaners</td>\n",
              "      <td>Not-in-family</td>\n",
              "      <td>White</td>\n",
              "      <td>Male</td>\n",
              "      <td>0</td>\n",
              "      <td>0</td>\n",
              "      <td>40</td>\n",
              "      <td>United-States</td>\n",
              "      <td>0</td>\n",
              "    </tr>\n",
              "    <tr>\n",
              "      <th>3</th>\n",
              "      <td>53</td>\n",
              "      <td>Private</td>\n",
              "      <td>11th</td>\n",
              "      <td>7</td>\n",
              "      <td>Married-civ-spouse</td>\n",
              "      <td>Handlers-cleaners</td>\n",
              "      <td>Husband</td>\n",
              "      <td>Black</td>\n",
              "      <td>Male</td>\n",
              "      <td>0</td>\n",
              "      <td>0</td>\n",
              "      <td>40</td>\n",
              "      <td>United-States</td>\n",
              "      <td>0</td>\n",
              "    </tr>\n",
              "    <tr>\n",
              "      <th>4</th>\n",
              "      <td>28</td>\n",
              "      <td>Private</td>\n",
              "      <td>Bachelors</td>\n",
              "      <td>13</td>\n",
              "      <td>Married-civ-spouse</td>\n",
              "      <td>Prof-specialty</td>\n",
              "      <td>Wife</td>\n",
              "      <td>Black</td>\n",
              "      <td>Female</td>\n",
              "      <td>0</td>\n",
              "      <td>0</td>\n",
              "      <td>40</td>\n",
              "      <td>Cuba</td>\n",
              "      <td>0</td>\n",
              "    </tr>\n",
              "  </tbody>\n",
              "</table>\n",
              "</div>"
            ],
            "text/plain": [
              "   age          workclass  ...  native_country  income_bracket\n",
              "0   39          State-gov  ...   United-States               0\n",
              "1   50   Self-emp-not-inc  ...   United-States               0\n",
              "2   38            Private  ...   United-States               0\n",
              "3   53            Private  ...   United-States               0\n",
              "4   28            Private  ...            Cuba               0\n",
              "\n",
              "[5 rows x 14 columns]"
            ]
          },
          "metadata": {
            "tags": []
          },
          "execution_count": 81
        }
      ]
    },
    {
      "cell_type": "code",
      "metadata": {
        "id": "6Qr7SGZXz6bT",
        "colab_type": "code",
        "colab": {
          "base_uri": "https://localhost:8080/",
          "height": 35
        },
        "outputId": "61d1823a-bc9d-4eaa-c36e-0907ea4401b4"
      },
      "source": [
        "census['occupation'].count()"
      ],
      "execution_count": 83,
      "outputs": [
        {
          "output_type": "execute_result",
          "data": {
            "text/plain": [
              "32561"
            ]
          },
          "metadata": {
            "tags": []
          },
          "execution_count": 83
        }
      ]
    },
    {
      "cell_type": "code",
      "metadata": {
        "id": "p13UfvEVLCVw",
        "colab_type": "code",
        "colab": {
          "base_uri": "https://localhost:8080/",
          "height": 288
        },
        "outputId": "f8722f83-a65e-457f-bece-2b489128a071"
      },
      "source": [
        "census.describe()"
      ],
      "execution_count": 85,
      "outputs": [
        {
          "output_type": "execute_result",
          "data": {
            "text/html": [
              "<div>\n",
              "<style scoped>\n",
              "    .dataframe tbody tr th:only-of-type {\n",
              "        vertical-align: middle;\n",
              "    }\n",
              "\n",
              "    .dataframe tbody tr th {\n",
              "        vertical-align: top;\n",
              "    }\n",
              "\n",
              "    .dataframe thead th {\n",
              "        text-align: right;\n",
              "    }\n",
              "</style>\n",
              "<table border=\"1\" class=\"dataframe\">\n",
              "  <thead>\n",
              "    <tr style=\"text-align: right;\">\n",
              "      <th></th>\n",
              "      <th>age</th>\n",
              "      <th>education_num</th>\n",
              "      <th>capital_gain</th>\n",
              "      <th>capital_loss</th>\n",
              "      <th>hours_per_week</th>\n",
              "      <th>income_bracket</th>\n",
              "    </tr>\n",
              "  </thead>\n",
              "  <tbody>\n",
              "    <tr>\n",
              "      <th>count</th>\n",
              "      <td>32561.000000</td>\n",
              "      <td>32561.000000</td>\n",
              "      <td>32561.000000</td>\n",
              "      <td>32561.000000</td>\n",
              "      <td>32561.000000</td>\n",
              "      <td>32561.000000</td>\n",
              "    </tr>\n",
              "    <tr>\n",
              "      <th>mean</th>\n",
              "      <td>38.581647</td>\n",
              "      <td>10.080679</td>\n",
              "      <td>1077.648844</td>\n",
              "      <td>87.303830</td>\n",
              "      <td>40.437456</td>\n",
              "      <td>0.240810</td>\n",
              "    </tr>\n",
              "    <tr>\n",
              "      <th>std</th>\n",
              "      <td>13.640433</td>\n",
              "      <td>2.572720</td>\n",
              "      <td>7385.292085</td>\n",
              "      <td>402.960219</td>\n",
              "      <td>12.347429</td>\n",
              "      <td>0.427581</td>\n",
              "    </tr>\n",
              "    <tr>\n",
              "      <th>min</th>\n",
              "      <td>17.000000</td>\n",
              "      <td>1.000000</td>\n",
              "      <td>0.000000</td>\n",
              "      <td>0.000000</td>\n",
              "      <td>1.000000</td>\n",
              "      <td>0.000000</td>\n",
              "    </tr>\n",
              "    <tr>\n",
              "      <th>25%</th>\n",
              "      <td>28.000000</td>\n",
              "      <td>9.000000</td>\n",
              "      <td>0.000000</td>\n",
              "      <td>0.000000</td>\n",
              "      <td>40.000000</td>\n",
              "      <td>0.000000</td>\n",
              "    </tr>\n",
              "    <tr>\n",
              "      <th>50%</th>\n",
              "      <td>37.000000</td>\n",
              "      <td>10.000000</td>\n",
              "      <td>0.000000</td>\n",
              "      <td>0.000000</td>\n",
              "      <td>40.000000</td>\n",
              "      <td>0.000000</td>\n",
              "    </tr>\n",
              "    <tr>\n",
              "      <th>75%</th>\n",
              "      <td>48.000000</td>\n",
              "      <td>12.000000</td>\n",
              "      <td>0.000000</td>\n",
              "      <td>0.000000</td>\n",
              "      <td>45.000000</td>\n",
              "      <td>0.000000</td>\n",
              "    </tr>\n",
              "    <tr>\n",
              "      <th>max</th>\n",
              "      <td>90.000000</td>\n",
              "      <td>16.000000</td>\n",
              "      <td>99999.000000</td>\n",
              "      <td>4356.000000</td>\n",
              "      <td>99.000000</td>\n",
              "      <td>1.000000</td>\n",
              "    </tr>\n",
              "  </tbody>\n",
              "</table>\n",
              "</div>"
            ],
            "text/plain": [
              "                age  education_num  ...  hours_per_week  income_bracket\n",
              "count  32561.000000   32561.000000  ...    32561.000000    32561.000000\n",
              "mean      38.581647      10.080679  ...       40.437456        0.240810\n",
              "std       13.640433       2.572720  ...       12.347429        0.427581\n",
              "min       17.000000       1.000000  ...        1.000000        0.000000\n",
              "25%       28.000000       9.000000  ...       40.000000        0.000000\n",
              "50%       37.000000      10.000000  ...       40.000000        0.000000\n",
              "75%       48.000000      12.000000  ...       45.000000        0.000000\n",
              "max       90.000000      16.000000  ...       99.000000        1.000000\n",
              "\n",
              "[8 rows x 6 columns]"
            ]
          },
          "metadata": {
            "tags": []
          },
          "execution_count": 85
        }
      ]
    },
    {
      "cell_type": "markdown",
      "metadata": {
        "id": "stFnfFboz6bZ",
        "colab_type": "text"
      },
      "source": [
        "** TensorFlow won't be able to understand strings as labels, you'll need to use pandas .apply() method to apply a custom function that converts them to 0s and 1s. This might be hard if you aren't very familiar with pandas, so feel free to take a peek at the solutions for this part.**\n",
        "\n",
        "** Convert the Label column to 0s and 1s instead of strings.**"
      ]
    },
    {
      "cell_type": "code",
      "metadata": {
        "id": "h2BFJ9Hn051n",
        "colab_type": "code",
        "colab": {
          "base_uri": "https://localhost:8080/",
          "height": 276
        },
        "outputId": "818bc4a8-c771-48ad-b364-4457f27af7fd"
      },
      "source": [
        "census.dtypes"
      ],
      "execution_count": 5,
      "outputs": [
        {
          "output_type": "execute_result",
          "data": {
            "text/plain": [
              "age                int64\n",
              "workclass         object\n",
              "education         object\n",
              "education_num      int64\n",
              "marital_status    object\n",
              "occupation        object\n",
              "relationship      object\n",
              "race              object\n",
              "gender            object\n",
              "capital_gain       int64\n",
              "capital_loss       int64\n",
              "hours_per_week     int64\n",
              "native_country    object\n",
              "income_bracket    object\n",
              "dtype: object"
            ]
          },
          "metadata": {
            "tags": []
          },
          "execution_count": 5
        }
      ]
    },
    {
      "cell_type": "code",
      "metadata": {
        "id": "HYxMh3wu1c1m",
        "colab_type": "code",
        "colab": {
          "base_uri": "https://localhost:8080/",
          "height": 35
        },
        "outputId": "0db13965-09b6-48c7-bde5-f13b9562e2da"
      },
      "source": [
        "census['income_bracket'].unique()"
      ],
      "execution_count": 10,
      "outputs": [
        {
          "output_type": "execute_result",
          "data": {
            "text/plain": [
              "array([' <=50K', ' >50K'], dtype=object)"
            ]
          },
          "metadata": {
            "tags": []
          },
          "execution_count": 10
        }
      ]
    },
    {
      "cell_type": "code",
      "metadata": {
        "id": "zfCwy6W9z6ba",
        "colab_type": "code",
        "colab": {},
        "outputId": "a4a66be6-ebc9-4d93-cd75-451a1690b446"
      },
      "source": [
        ""
      ],
      "execution_count": 0,
      "outputs": [
        {
          "output_type": "execute_result",
          "data": {
            "text/plain": [
              "array([' <=50K', ' >50K'], dtype=object)"
            ]
          },
          "metadata": {
            "tags": []
          },
          "execution_count": 6
        }
      ]
    },
    {
      "cell_type": "code",
      "metadata": {
        "id": "PKKwPYex3p6R",
        "colab_type": "code",
        "colab": {}
      },
      "source": [
        "def label_fix(label):\n",
        "    if label==' <=50K':\n",
        "        return 0\n",
        "    else:\n",
        "        return 1"
      ],
      "execution_count": 0,
      "outputs": []
    },
    {
      "cell_type": "code",
      "metadata": {
        "id": "1nVUTRCS33OZ",
        "colab_type": "code",
        "colab": {}
      },
      "source": [
        "census['income_bracket'] = census['income_bracket'].apply(label_fix)"
      ],
      "execution_count": 0,
      "outputs": []
    },
    {
      "cell_type": "code",
      "metadata": {
        "id": "BF2xsfNfz6bf",
        "colab_type": "code",
        "colab": {}
      },
      "source": [
        "x_data =census.drop('income_bracket', axis=1)\n",
        "y_val = census['income_bracket']"
      ],
      "execution_count": 0,
      "outputs": []
    },
    {
      "cell_type": "code",
      "metadata": {
        "id": "_ouk958fz6bk",
        "colab_type": "code",
        "colab": {}
      },
      "source": [
        "# Cool Alternative\n",
        "# lambda label:int(label==' <=50k')\n",
        "\n",
        "# census['income_bracket'].apply(lambda label: int(label==' <=50K'))"
      ],
      "execution_count": 0,
      "outputs": []
    },
    {
      "cell_type": "markdown",
      "metadata": {
        "id": "4PnQhoRTz6bn",
        "colab_type": "text"
      },
      "source": [
        "### Perform a Train Test Split on the Data"
      ]
    },
    {
      "cell_type": "code",
      "metadata": {
        "id": "Q9mvoWjKz6bp",
        "colab_type": "code",
        "colab": {}
      },
      "source": [
        "from sklearn.model_selection import train_test_split"
      ],
      "execution_count": 0,
      "outputs": []
    },
    {
      "cell_type": "code",
      "metadata": {
        "id": "kBUH-Hunz6bs",
        "colab_type": "code",
        "colab": {}
      },
      "source": [
        "X_train, X_test, y_train, y_test = train_test_split(x_data, y_val, test_size=0.3, random_state=101)"
      ],
      "execution_count": 0,
      "outputs": []
    },
    {
      "cell_type": "markdown",
      "metadata": {
        "id": "GzM138g-z6bu",
        "colab_type": "text"
      },
      "source": [
        "### Create the Feature Columns for tf.esitmator\n",
        "\n",
        "** Take note of categorical vs continuous values! **"
      ]
    },
    {
      "cell_type": "code",
      "metadata": {
        "id": "HW0P56h94ZZF",
        "colab_type": "code",
        "colab": {
          "base_uri": "https://localhost:8080/",
          "height": 86
        },
        "outputId": "ad168063-358d-466f-da39-7f57cd7ad9cd"
      },
      "source": [
        "census.columns"
      ],
      "execution_count": 33,
      "outputs": [
        {
          "output_type": "execute_result",
          "data": {
            "text/plain": [
              "Index(['age', 'workclass', 'education', 'education_num', 'marital_status',\n",
              "       'occupation', 'relationship', 'race', 'gender', 'capital_gain',\n",
              "       'capital_loss', 'hours_per_week', 'native_country', 'income_bracket'],\n",
              "      dtype='object')"
            ]
          },
          "metadata": {
            "tags": []
          },
          "execution_count": 33
        }
      ]
    },
    {
      "cell_type": "markdown",
      "metadata": {
        "id": "6MQIhPtMz6by",
        "colab_type": "text"
      },
      "source": [
        "** Import Tensorflow **"
      ]
    },
    {
      "cell_type": "code",
      "metadata": {
        "id": "uLoP1U46z6by",
        "colab_type": "code",
        "colab": {}
      },
      "source": [
        "import tensorflow as tf"
      ],
      "execution_count": 0,
      "outputs": []
    },
    {
      "cell_type": "markdown",
      "metadata": {
        "collapsed": true,
        "id": "fM0I-LQlz6b1",
        "colab_type": "text"
      },
      "source": [
        "** Create the tf.feature_columns for the categorical values. Use vocabulary lists or just use hash buckets. **"
      ]
    },
    {
      "cell_type": "code",
      "metadata": {
        "id": "n6x9vY12z6b3",
        "colab_type": "code",
        "colab": {}
      },
      "source": [
        "gender = tf.feature_column.categorical_column_with_vocabulary_list(\"gender\", [\"Female\", \"Male\"])\n",
        "occupation = tf.feature_column.categorical_column_with_hash_bucket(\"occupation\", hash_bucket_size=1000)\n",
        "marital_status = tf.feature_column.categorical_column_with_hash_bucket(\"marital_status\", hash_bucket_size=1000)\n",
        "relationship = tf.feature_column.categorical_column_with_hash_bucket(\"relationship\", hash_bucket_size=1000)\n",
        "education = tf.feature_column.categorical_column_with_hash_bucket(\"education\", hash_bucket_size=1000)\n",
        "workclass = tf.feature_column.categorical_column_with_hash_bucket(\"workclass\", hash_bucket_size=1000)\n",
        "native_country = tf.feature_column.categorical_column_with_hash_bucket(\"native_country\", hash_bucket_size=1000)"
      ],
      "execution_count": 0,
      "outputs": []
    },
    {
      "cell_type": "markdown",
      "metadata": {
        "id": "1lDA0wU6z6b6",
        "colab_type": "text"
      },
      "source": [
        "** Create the continuous feature_columns for the continuous values using numeric_column **"
      ]
    },
    {
      "cell_type": "code",
      "metadata": {
        "id": "MP_-yZGbz6b7",
        "colab_type": "code",
        "colab": {}
      },
      "source": [
        "age = tf.feature_column.numeric_column(\"age\")\n",
        "education_num = tf.feature_column.numeric_column(\"education_num\")\n",
        "capital_gain = tf.feature_column.numeric_column(\"capital_gain\")\n",
        "capital_loss = tf.feature_column.numeric_column(\"capital_loss\")\n",
        "hours_per_week = tf.feature_column.numeric_column(\"hours_per_week\")"
      ],
      "execution_count": 0,
      "outputs": []
    },
    {
      "cell_type": "markdown",
      "metadata": {
        "id": "T1AD_7J7z6b-",
        "colab_type": "text"
      },
      "source": [
        "** Put all these variables into a single list with the variable name feat_cols **"
      ]
    },
    {
      "cell_type": "code",
      "metadata": {
        "id": "PeeqE8hSz6b_",
        "colab_type": "code",
        "colab": {}
      },
      "source": [
        "feat_cols = [gender,occupation,marital_status,relationship,education,workclass,native_country,\n",
        "            age,education_num,capital_gain,capital_loss,hours_per_week]"
      ],
      "execution_count": 0,
      "outputs": []
    },
    {
      "cell_type": "markdown",
      "metadata": {
        "id": "LJUY37GTz6cE",
        "colab_type": "text"
      },
      "source": [
        "### Create Input Function\n",
        "\n",
        "** Batch_size is up to you. But do make sure to shuffle!**"
      ]
    },
    {
      "cell_type": "code",
      "metadata": {
        "id": "I0O-FD2oz6cG",
        "colab_type": "code",
        "colab": {}
      },
      "source": [
        "input_func=tf.estimator.inputs.pandas_input_fn(x=X_train,y=y_train, batch_size=128, num_epochs=2000, shuffle=True)"
      ],
      "execution_count": 0,
      "outputs": []
    },
    {
      "cell_type": "markdown",
      "metadata": {
        "id": "LFjsTDT7z6cL",
        "colab_type": "text"
      },
      "source": [
        "#### Create your model with tf.estimator\n",
        "\n",
        "**Create a LinearClassifier.(If you want to use a DNNClassifier, keep in mind you'll need to create embedded columns out of the cateogrical feature that use strings, check out the previous lecture on this for more info.)**"
      ]
    },
    {
      "cell_type": "code",
      "metadata": {
        "id": "-sxdV_Dfz6cN",
        "colab_type": "code",
        "colab": {
          "base_uri": "https://localhost:8080/",
          "height": 193
        },
        "outputId": "bcfea14b-e358-442e-fad3-e4c2b4160586"
      },
      "source": [
        "model = tf.estimator.LinearClassifier(feature_columns=feat_cols)"
      ],
      "execution_count": 39,
      "outputs": [
        {
          "output_type": "stream",
          "text": [
            "INFO:tensorflow:Using default config.\n",
            "WARNING:tensorflow:Using temporary folder as model directory: /tmp/tmpyulzirlx\n",
            "INFO:tensorflow:Using config: {'_model_dir': '/tmp/tmpyulzirlx', '_tf_random_seed': None, '_save_summary_steps': 100, '_save_checkpoints_steps': None, '_save_checkpoints_secs': 600, '_session_config': allow_soft_placement: true\n",
            "graph_options {\n",
            "  rewrite_options {\n",
            "    meta_optimizer_iterations: ONE\n",
            "  }\n",
            "}\n",
            ", '_keep_checkpoint_max': 5, '_keep_checkpoint_every_n_hours': 10000, '_log_step_count_steps': 100, '_train_distribute': None, '_device_fn': None, '_protocol': None, '_eval_distribute': None, '_experimental_distribute': None, '_service': None, '_cluster_spec': <tensorflow.python.training.server_lib.ClusterSpec object at 0x7fd088451e80>, '_task_type': 'worker', '_task_id': 0, '_global_id_in_cluster': 0, '_master': '', '_evaluation_master': '', '_is_chief': True, '_num_ps_replicas': 0, '_num_worker_replicas': 1}\n"
          ],
          "name": "stdout"
        }
      ]
    },
    {
      "cell_type": "markdown",
      "metadata": {
        "id": "T0YHqh4Hz6cR",
        "colab_type": "text"
      },
      "source": [
        "** Train your model on the data, for at least 5000 steps. **"
      ]
    },
    {
      "cell_type": "code",
      "metadata": {
        "id": "z-3WKlk3z6cR",
        "colab_type": "code",
        "colab": {
          "base_uri": "https://localhost:8080/",
          "height": 2231
        },
        "outputId": "4ad0e73a-05f6-4578-bc17-c504c64f2e1f"
      },
      "source": [
        "model.train(input_fn=input_func,steps =5000)"
      ],
      "execution_count": 40,
      "outputs": [
        {
          "output_type": "stream",
          "text": [
            "WARNING:tensorflow:From /usr/local/lib/python3.6/dist-packages/tensorflow/python/framework/op_def_library.py:263: colocate_with (from tensorflow.python.framework.ops) is deprecated and will be removed in a future version.\n",
            "Instructions for updating:\n",
            "Colocations handled automatically by placer.\n",
            "WARNING:tensorflow:From /usr/local/lib/python3.6/dist-packages/tensorflow_estimator/python/estimator/inputs/queues/feeding_queue_runner.py:62: QueueRunner.__init__ (from tensorflow.python.training.queue_runner_impl) is deprecated and will be removed in a future version.\n",
            "Instructions for updating:\n",
            "To construct input pipelines, use the `tf.data` module.\n",
            "WARNING:tensorflow:From /usr/local/lib/python3.6/dist-packages/tensorflow_estimator/python/estimator/inputs/queues/feeding_functions.py:500: add_queue_runner (from tensorflow.python.training.queue_runner_impl) is deprecated and will be removed in a future version.\n",
            "Instructions for updating:\n",
            "To construct input pipelines, use the `tf.data` module.\n",
            "INFO:tensorflow:Calling model_fn.\n",
            "WARNING:tensorflow:From /usr/local/lib/python3.6/dist-packages/tensorflow/python/feature_column/feature_column_v2.py:2703: to_float (from tensorflow.python.ops.math_ops) is deprecated and will be removed in a future version.\n",
            "Instructions for updating:\n",
            "Use tf.cast instead.\n",
            "WARNING:tensorflow:From /usr/local/lib/python3.6/dist-packages/tensorflow/python/ops/lookup_ops.py:1137: to_int64 (from tensorflow.python.ops.math_ops) is deprecated and will be removed in a future version.\n",
            "Instructions for updating:\n",
            "Use tf.cast instead.\n",
            "INFO:tensorflow:Done calling model_fn.\n",
            "INFO:tensorflow:Create CheckpointSaverHook.\n",
            "INFO:tensorflow:Graph was finalized.\n",
            "INFO:tensorflow:Running local_init_op.\n",
            "INFO:tensorflow:Done running local_init_op.\n",
            "WARNING:tensorflow:From /usr/local/lib/python3.6/dist-packages/tensorflow/python/training/monitored_session.py:809: start_queue_runners (from tensorflow.python.training.queue_runner_impl) is deprecated and will be removed in a future version.\n",
            "Instructions for updating:\n",
            "To construct input pipelines, use the `tf.data` module.\n",
            "INFO:tensorflow:Saving checkpoints for 0 into /tmp/tmpyulzirlx/model.ckpt.\n",
            "INFO:tensorflow:loss = 88.722855, step = 1\n",
            "INFO:tensorflow:global_step/sec: 127.781\n",
            "INFO:tensorflow:loss = 209.86865, step = 101 (0.787 sec)\n",
            "INFO:tensorflow:global_step/sec: 192.712\n",
            "INFO:tensorflow:loss = 298.25708, step = 201 (0.522 sec)\n",
            "INFO:tensorflow:global_step/sec: 184.624\n",
            "INFO:tensorflow:loss = 371.26477, step = 301 (0.536 sec)\n",
            "INFO:tensorflow:global_step/sec: 171.265\n",
            "INFO:tensorflow:loss = 63.3544, step = 401 (0.587 sec)\n",
            "INFO:tensorflow:global_step/sec: 188.349\n",
            "INFO:tensorflow:loss = 160.7259, step = 501 (0.528 sec)\n",
            "INFO:tensorflow:global_step/sec: 183.197\n",
            "INFO:tensorflow:loss = 556.5005, step = 601 (0.546 sec)\n",
            "INFO:tensorflow:global_step/sec: 182.281\n",
            "INFO:tensorflow:loss = 206.19394, step = 701 (0.549 sec)\n",
            "INFO:tensorflow:global_step/sec: 176.828\n",
            "INFO:tensorflow:loss = 93.51714, step = 801 (0.565 sec)\n",
            "INFO:tensorflow:global_step/sec: 189.79\n",
            "INFO:tensorflow:loss = 534.964, step = 901 (0.536 sec)\n",
            "INFO:tensorflow:global_step/sec: 172.506\n",
            "INFO:tensorflow:loss = 473.48465, step = 1001 (0.576 sec)\n",
            "INFO:tensorflow:global_step/sec: 178.237\n",
            "INFO:tensorflow:loss = 36.384605, step = 1101 (0.560 sec)\n",
            "INFO:tensorflow:global_step/sec: 175.881\n",
            "INFO:tensorflow:loss = 518.9654, step = 1201 (0.571 sec)\n",
            "INFO:tensorflow:global_step/sec: 179.508\n",
            "INFO:tensorflow:loss = 38.51252, step = 1301 (0.555 sec)\n",
            "INFO:tensorflow:global_step/sec: 189.695\n",
            "INFO:tensorflow:loss = 33.805542, step = 1401 (0.523 sec)\n",
            "INFO:tensorflow:global_step/sec: 188.985\n",
            "INFO:tensorflow:loss = 67.420074, step = 1501 (0.529 sec)\n",
            "INFO:tensorflow:global_step/sec: 188.744\n",
            "INFO:tensorflow:loss = 81.427734, step = 1601 (0.535 sec)\n",
            "INFO:tensorflow:global_step/sec: 189.835\n",
            "INFO:tensorflow:loss = 407.6819, step = 1701 (0.525 sec)\n",
            "INFO:tensorflow:global_step/sec: 180.918\n",
            "INFO:tensorflow:loss = 52.3366, step = 1801 (0.549 sec)\n",
            "INFO:tensorflow:global_step/sec: 186.854\n",
            "INFO:tensorflow:loss = 83.87627, step = 1901 (0.541 sec)\n",
            "INFO:tensorflow:global_step/sec: 189.928\n",
            "INFO:tensorflow:loss = 178.27852, step = 2001 (0.526 sec)\n",
            "INFO:tensorflow:global_step/sec: 174.544\n",
            "INFO:tensorflow:loss = 80.64192, step = 2101 (0.568 sec)\n",
            "INFO:tensorflow:global_step/sec: 181.335\n",
            "INFO:tensorflow:loss = 82.761116, step = 2201 (0.559 sec)\n",
            "INFO:tensorflow:global_step/sec: 167.081\n",
            "INFO:tensorflow:loss = 181.94041, step = 2301 (0.592 sec)\n",
            "INFO:tensorflow:global_step/sec: 169.035\n",
            "INFO:tensorflow:loss = 70.975525, step = 2401 (0.601 sec)\n",
            "INFO:tensorflow:global_step/sec: 176.839\n",
            "INFO:tensorflow:loss = 115.62468, step = 2501 (0.555 sec)\n",
            "INFO:tensorflow:global_step/sec: 179.068\n",
            "INFO:tensorflow:loss = 34.41371, step = 2601 (0.564 sec)\n",
            "INFO:tensorflow:global_step/sec: 186.824\n",
            "INFO:tensorflow:loss = 205.14029, step = 2701 (0.535 sec)\n",
            "INFO:tensorflow:global_step/sec: 186.945\n",
            "INFO:tensorflow:loss = 53.51833, step = 2801 (0.537 sec)\n",
            "INFO:tensorflow:global_step/sec: 180.337\n",
            "INFO:tensorflow:loss = 48.878704, step = 2901 (0.547 sec)\n",
            "INFO:tensorflow:global_step/sec: 182.441\n",
            "INFO:tensorflow:loss = 188.42896, step = 3001 (0.551 sec)\n",
            "INFO:tensorflow:global_step/sec: 182.382\n",
            "INFO:tensorflow:loss = 58.79607, step = 3101 (0.546 sec)\n",
            "INFO:tensorflow:global_step/sec: 178.642\n",
            "INFO:tensorflow:loss = 53.17713, step = 3201 (0.560 sec)\n",
            "INFO:tensorflow:global_step/sec: 182.758\n",
            "INFO:tensorflow:loss = 43.45552, step = 3301 (0.547 sec)\n",
            "INFO:tensorflow:global_step/sec: 177.016\n",
            "INFO:tensorflow:loss = 132.45477, step = 3401 (0.565 sec)\n",
            "INFO:tensorflow:global_step/sec: 177.338\n",
            "INFO:tensorflow:loss = 40.91797, step = 3501 (0.571 sec)\n",
            "INFO:tensorflow:global_step/sec: 181.772\n",
            "INFO:tensorflow:loss = 36.339264, step = 3601 (0.548 sec)\n",
            "INFO:tensorflow:global_step/sec: 174.979\n",
            "INFO:tensorflow:loss = 74.313034, step = 3701 (0.572 sec)\n",
            "INFO:tensorflow:global_step/sec: 181.846\n",
            "INFO:tensorflow:loss = 32.805504, step = 3801 (0.544 sec)\n",
            "INFO:tensorflow:global_step/sec: 186.241\n",
            "INFO:tensorflow:loss = 53.77179, step = 3901 (0.537 sec)\n",
            "INFO:tensorflow:global_step/sec: 183.608\n",
            "INFO:tensorflow:loss = 48.10995, step = 4001 (0.548 sec)\n",
            "INFO:tensorflow:global_step/sec: 185.416\n",
            "INFO:tensorflow:loss = 143.46498, step = 4101 (0.540 sec)\n",
            "INFO:tensorflow:global_step/sec: 173.536\n",
            "INFO:tensorflow:loss = 51.840195, step = 4201 (0.572 sec)\n",
            "INFO:tensorflow:global_step/sec: 181.075\n",
            "INFO:tensorflow:loss = 42.324936, step = 4301 (0.551 sec)\n",
            "INFO:tensorflow:global_step/sec: 182.428\n",
            "INFO:tensorflow:loss = 56.884895, step = 4401 (0.549 sec)\n",
            "INFO:tensorflow:global_step/sec: 187.047\n",
            "INFO:tensorflow:loss = 32.217133, step = 4501 (0.534 sec)\n",
            "INFO:tensorflow:global_step/sec: 174.925\n",
            "INFO:tensorflow:loss = 154.1995, step = 4601 (0.572 sec)\n",
            "INFO:tensorflow:global_step/sec: 182.65\n",
            "INFO:tensorflow:loss = 39.758446, step = 4701 (0.553 sec)\n",
            "INFO:tensorflow:global_step/sec: 185.753\n",
            "INFO:tensorflow:loss = 55.416824, step = 4801 (0.532 sec)\n",
            "INFO:tensorflow:global_step/sec: 187.606\n",
            "INFO:tensorflow:loss = 225.12451, step = 4901 (0.533 sec)\n",
            "INFO:tensorflow:Saving checkpoints for 5000 into /tmp/tmpyulzirlx/model.ckpt.\n",
            "INFO:tensorflow:Loss for final step: 283.3954.\n"
          ],
          "name": "stdout"
        },
        {
          "output_type": "execute_result",
          "data": {
            "text/plain": [
              "<tensorflow_estimator.python.estimator.canned.linear.LinearClassifier at 0x7fd0884510f0>"
            ]
          },
          "metadata": {
            "tags": []
          },
          "execution_count": 40
        }
      ]
    },
    {
      "cell_type": "markdown",
      "metadata": {
        "id": "490ntofBz6cV",
        "colab_type": "text"
      },
      "source": [
        "### Evaluation\n",
        "\n",
        "** Create a prediction input function. Remember to only supprt X_test data and keep shuffle=False. **"
      ]
    },
    {
      "cell_type": "code",
      "metadata": {
        "id": "_8JXC8Wsz6cW",
        "colab_type": "code",
        "colab": {}
      },
      "source": [
        "pred_input_func =tf.estimator.inputs.pandas_input_fn(X_test,batch_size =100, num_epochs=1,shuffle=False)"
      ],
      "execution_count": 0,
      "outputs": []
    },
    {
      "cell_type": "markdown",
      "metadata": {
        "id": "fu_0tcksz6cb",
        "colab_type": "text"
      },
      "source": [
        "** Use model.predict() and pass in your input function. This will produce a generator of predictions, which you can then transform into a list, with list() **"
      ]
    },
    {
      "cell_type": "code",
      "metadata": {
        "id": "ma9gwySxz6cb",
        "colab_type": "code",
        "colab": {
          "base_uri": "https://localhost:8080/",
          "height": 121
        },
        "outputId": "3ec29875-a792-4f6e-8385-77d6828e7bb9"
      },
      "source": [
        "#pred_gen =model.predict(pred_input_func)\n",
        "predictions = list(model.predict(input_fn=pred_input_func))"
      ],
      "execution_count": 50,
      "outputs": [
        {
          "output_type": "stream",
          "text": [
            "INFO:tensorflow:Calling model_fn.\n",
            "INFO:tensorflow:Done calling model_fn.\n",
            "INFO:tensorflow:Graph was finalized.\n",
            "INFO:tensorflow:Restoring parameters from /tmp/tmpyulzirlx/model.ckpt-5000\n",
            "INFO:tensorflow:Running local_init_op.\n",
            "INFO:tensorflow:Done running local_init_op.\n"
          ],
          "name": "stdout"
        }
      ]
    },
    {
      "cell_type": "code",
      "metadata": {
        "id": "6Tmneyll91Mr",
        "colab_type": "code",
        "colab": {
          "base_uri": "https://localhost:8080/",
          "height": 35
        },
        "outputId": "c0e88fac-ae66-4e54-8f6d-76c83e9783a1"
      },
      "source": [
        "predictions[1]['class_ids'][0]"
      ],
      "execution_count": 55,
      "outputs": [
        {
          "output_type": "execute_result",
          "data": {
            "text/plain": [
              "0"
            ]
          },
          "metadata": {
            "tags": []
          },
          "execution_count": 55
        }
      ]
    },
    {
      "cell_type": "code",
      "metadata": {
        "id": "BcJgS9Ms9-cx",
        "colab_type": "code",
        "colab": {}
      },
      "source": [
        "final_preds = []\n",
        "for pred in predictions:\n",
        "    final_preds.append(pred['class_ids'][0])"
      ],
      "execution_count": 0,
      "outputs": []
    },
    {
      "cell_type": "markdown",
      "metadata": {
        "id": "ZlvP6kV-z6ce",
        "colab_type": "text"
      },
      "source": [
        "** Each item in your list will look like this: **"
      ]
    },
    {
      "cell_type": "code",
      "metadata": {
        "id": "kVaU48Onz6cf",
        "colab_type": "code",
        "colab": {
          "base_uri": "https://localhost:8080/",
          "height": 104
        },
        "outputId": "e36ef053-612a-4b2a-9e99-a0b90f8f7d72"
      },
      "source": [
        "predictions[1]"
      ],
      "execution_count": 57,
      "outputs": [
        {
          "output_type": "execute_result",
          "data": {
            "text/plain": [
              "{'class_ids': array([0]),\n",
              " 'classes': array([b'0'], dtype=object),\n",
              " 'logistic': array([3.3676624e-05], dtype=float32),\n",
              " 'logits': array([-10.299018], dtype=float32),\n",
              " 'probabilities': array([9.9996638e-01, 3.3665012e-05], dtype=float32)}"
            ]
          },
          "metadata": {
            "tags": []
          },
          "execution_count": 57
        }
      ]
    },
    {
      "cell_type": "code",
      "metadata": {
        "id": "kb39EOIsz6cj",
        "colab_type": "code",
        "colab": {
          "base_uri": "https://localhost:8080/",
          "height": 35
        },
        "outputId": "0a174153-e698-4969-e5f7-f22f704e8e01"
      },
      "source": [
        "final_preds[:10]"
      ],
      "execution_count": 59,
      "outputs": [
        {
          "output_type": "execute_result",
          "data": {
            "text/plain": [
              "[0, 0, 0, 0, 1, 0, 0, 0, 0, 0]"
            ]
          },
          "metadata": {
            "tags": []
          },
          "execution_count": 59
        }
      ]
    },
    {
      "cell_type": "markdown",
      "metadata": {
        "id": "bYQoAd51z6cn",
        "colab_type": "text"
      },
      "source": [
        "** Import classification_report from sklearn.metrics and then see if you can figure out how to use it to easily get a full report of your model's performance on the test data. **"
      ]
    },
    {
      "cell_type": "code",
      "metadata": {
        "id": "hW7HuyReAfw9",
        "colab_type": "code",
        "colab": {}
      },
      "source": [
        ""
      ],
      "execution_count": 0,
      "outputs": []
    },
    {
      "cell_type": "code",
      "metadata": {
        "id": "24Ar7iyqz6co",
        "colab_type": "code",
        "colab": {}
      },
      "source": [
        "from sklearn.metrics import confusion_matrix,f1_score,roc_curve,accuracy_score,classification_report"
      ],
      "execution_count": 0,
      "outputs": []
    },
    {
      "cell_type": "code",
      "metadata": {
        "id": "E0HLLcrB_huO",
        "colab_type": "code",
        "colab": {
          "base_uri": "https://localhost:8080/",
          "height": 52
        },
        "outputId": "823ee89a-88f5-4cc9-e093-4271ca31b963"
      },
      "source": [
        "confusion_matrix(y_test,final_preds)"
      ],
      "execution_count": 61,
      "outputs": [
        {
          "output_type": "execute_result",
          "data": {
            "text/plain": [
              "array([[6869,  567],\n",
              "       [1149, 1184]])"
            ]
          },
          "metadata": {
            "tags": []
          },
          "execution_count": 61
        }
      ]
    },
    {
      "cell_type": "code",
      "metadata": {
        "id": "4lhT99tR_1YS",
        "colab_type": "code",
        "colab": {
          "base_uri": "https://localhost:8080/",
          "height": 35
        },
        "outputId": "da4b0e68-7154-48d5-f101-c047e8e7ad38"
      },
      "source": [
        "f1_score(y_test,final_preds)"
      ],
      "execution_count": 65,
      "outputs": [
        {
          "output_type": "execute_result",
          "data": {
            "text/plain": [
              "0.5798237022526934"
            ]
          },
          "metadata": {
            "tags": []
          },
          "execution_count": 65
        }
      ]
    },
    {
      "cell_type": "code",
      "metadata": {
        "id": "Ou3AudqwASJH",
        "colab_type": "code",
        "colab": {
          "base_uri": "https://localhost:8080/",
          "height": 35
        },
        "outputId": "88239a90-98c3-4aac-8745-a6ba3a06c661"
      },
      "source": [
        "accuracy_score(y_test,final_preds)"
      ],
      "execution_count": 67,
      "outputs": [
        {
          "output_type": "execute_result",
          "data": {
            "text/plain": [
              "0.8243423072985976"
            ]
          },
          "metadata": {
            "tags": []
          },
          "execution_count": 67
        }
      ]
    },
    {
      "cell_type": "code",
      "metadata": {
        "id": "ShPXYg4jAX2W",
        "colab_type": "code",
        "colab": {
          "base_uri": "https://localhost:8080/",
          "height": 69
        },
        "outputId": "ade53c81-b9bd-42aa-85d9-d1dde5bf56da"
      },
      "source": [
        "roc_curve(y_test,final_preds)"
      ],
      "execution_count": 68,
      "outputs": [
        {
          "output_type": "execute_result",
          "data": {
            "text/plain": [
              "(array([0.        , 0.07625067, 1.        ]),\n",
              " array([0.        , 0.50750107, 1.        ]),\n",
              " array([2, 1, 0]))"
            ]
          },
          "metadata": {
            "tags": []
          },
          "execution_count": 68
        }
      ]
    },
    {
      "cell_type": "markdown",
      "metadata": {
        "id": "zluH4WE0BmDa",
        "colab_type": "text"
      },
      "source": [
        ""
      ]
    },
    {
      "cell_type": "code",
      "metadata": {
        "id": "sNZwmi1ZAe2b",
        "colab_type": "code",
        "colab": {
          "base_uri": "https://localhost:8080/",
          "height": 173
        },
        "outputId": "5d612e28-7ef7-42a7-b5fd-afb5bf5578ec"
      },
      "source": [
        "print(classification_report(y_test,final_preds))"
      ],
      "execution_count": 71,
      "outputs": [
        {
          "output_type": "stream",
          "text": [
            "              precision    recall  f1-score   support\n",
            "\n",
            "           0       0.86      0.92      0.89      7436\n",
            "           1       0.68      0.51      0.58      2333\n",
            "\n",
            "   micro avg       0.82      0.82      0.82      9769\n",
            "   macro avg       0.77      0.72      0.73      9769\n",
            "weighted avg       0.81      0.82      0.82      9769\n",
            "\n"
          ],
          "name": "stdout"
        }
      ]
    },
    {
      "cell_type": "markdown",
      "metadata": {
        "collapsed": true,
        "id": "AbVgI40Pz6cu",
        "colab_type": "text"
      },
      "source": [
        "# Great Job!"
      ]
    }
  ]
}